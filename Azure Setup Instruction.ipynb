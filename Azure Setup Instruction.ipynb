{
 "cells": [
  {
   "cell_type": "markdown",
   "metadata": {},
   "source": [
    "# Getting setup in Azure\n",
    "\n",
    "Once your account has been setup by a TF, use the following steps to get setup in Azure with a GPU."
   ]
  },
  {
   "cell_type": "markdown",
   "metadata": {},
   "source": [
    "First create a new machine by clicking the +. Next search for \"Caffe Python 3.6 NVidia GPU Production on Ubuntu\" and select that machine. "
   ]
  },
  {
   "cell_type": "markdown",
   "metadata": {},
   "source": [
    "<img src=\"figs/zero.png\">\n",
    "\n",
    "Be sure to add it to the West 2 region and pick HDD. Also give it a name and your SSH public key (see https://kb.iu.edu/d/aews)"
   ]
  },
  {
   "cell_type": "markdown",
   "metadata": {},
   "source": [
    "<img src=\"figs/first.png\">"
   ]
  },
  {
   "cell_type": "markdown",
   "metadata": {},
   "source": [
    "Next pick the smallest GPU machine machine. You will have to select HDD and then \"View All\" It should be called NC6\n",
    "\n"
   ]
  },
  {
   "cell_type": "markdown",
   "metadata": {},
   "source": [
    "<img src=\"figs/second.png\">"
   ]
  },
  {
   "cell_type": "markdown",
   "metadata": {},
   "source": [
    "In the settings tab, you may want to open up some ports. For instance if you want to run visualizations or ipython notebook, you can open up port 8888"
   ]
  },
  {
   "cell_type": "markdown",
   "metadata": {},
   "source": [
    "<img src=\"figs/third.png\">"
   ]
  },
  {
   "cell_type": "markdown",
   "metadata": {},
   "source": [
    "When you are finished, wait about five minutes until the machine launches. "
   ]
  },
  {
   "cell_type": "markdown",
   "metadata": {},
   "source": [
    "Click on the machine to get the public IP address. Please also be sure to shut down the machine when not in use. "
   ]
  },
  {
   "cell_type": "markdown",
   "metadata": {},
   "source": [
    "<img src=\"figs/fifth.png\">"
   ]
  },
  {
   "cell_type": "markdown",
   "metadata": {},
   "source": [
    "You should now be able to ssh into the machine directly using \n",
    "\n",
    "> ssh user@publicip"
   ]
  },
  {
   "cell_type": "markdown",
   "metadata": {},
   "source": [
    "To access the python setup on this machine, you need to be a bit hacky. I ran the following commands: \n",
    "\n",
    "> bash\n",
    "\n",
    "> sudo chmod 777 -R /jet/\n",
    "\n",
    "> export PATH=/jet/bin/:$PATH\n",
    "\n",
    "Check now that running `python` gives you version 3.6.\n",
    "\n",
    "If this works, add it to your .bashrc file."
   ]
  },
  {
   "cell_type": "markdown",
   "metadata": {},
   "source": [
    "Now install PyTorch and torchtext\n",
    "\n",
    "> pip3 install http://download.pytorch.org/whl/cu90/torch-0.3.0.post4-cp36-cp36m-linux_x86_64.whl\n",
    "\n",
    "> pip3 install torchtext"
   ]
  }
 ],
 "metadata": {
  "kernelspec": {
   "display_name": "IPython (Python 3)",
   "language": "python",
   "name": "python3"
  },
  "language_info": {
   "codemirror_mode": {
    "name": "ipython",
    "version": 3
   },
   "file_extension": ".py",
   "mimetype": "text/x-python",
   "name": "python",
   "nbconvert_exporter": "python",
   "pygments_lexer": "ipython3",
   "version": "3.5.2"
  }
 },
 "nbformat": 4,
 "nbformat_minor": 2
}
